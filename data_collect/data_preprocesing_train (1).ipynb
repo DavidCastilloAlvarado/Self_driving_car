{
 "cells": [
  {
   "cell_type": "code",
   "execution_count": 28,
   "metadata": {
    "colab": {},
    "colab_type": "code",
    "id": "lePFNrRLTfSt"
   },
   "outputs": [],
   "source": [
    "import pandas as pd \n",
    "from sklearn import preprocessing\n",
    "import numpy as np\n",
    "import cv2\n",
    "import skimage.io\n",
    "import matplotlib.pyplot as plt\n",
    "import PIL.Image\n",
    "import time\n",
    "import os\n",
    "from skimage.transform import rescale, resize, downscale_local_mean\n",
    "from random import uniform"
   ]
  },
  {
   "cell_type": "code",
   "execution_count": 2,
   "metadata": {
    "colab": {
     "base_uri": "https://localhost:8080/",
     "height": 218
    },
    "colab_type": "code",
    "id": "5BrI3WiXTfSw",
    "outputId": "758056db-630b-40b2-cb08-06b25ae81141"
   },
   "outputs": [
    {
     "data": {
      "text/html": [
       "<div>\n",
       "<table border=\"1\" class=\"dataframe\">\n",
       "  <thead>\n",
       "    <tr style=\"text-align: right;\">\n",
       "      <th></th>\n",
       "      <th>dir_center</th>\n",
       "      <th>dir_left</th>\n",
       "      <th>dir_right</th>\n",
       "      <th>angle</th>\n",
       "      <th>torque</th>\n",
       "      <th>acc</th>\n",
       "      <th>speed</th>\n",
       "    </tr>\n",
       "  </thead>\n",
       "  <tbody>\n",
       "    <tr>\n",
       "      <th>0</th>\n",
       "      <td>IMG/center_2018_11_20_17_12_32_757.jpg</td>\n",
       "      <td>IMG/left_2018_11_20_17_12_32_757.jpg</td>\n",
       "      <td>IMG/right_2018_11_20_17_12_32_757.jpg</td>\n",
       "      <td>0.00</td>\n",
       "      <td>0.000000</td>\n",
       "      <td>0</td>\n",
       "      <td>7.719079</td>\n",
       "    </tr>\n",
       "    <tr>\n",
       "      <th>1</th>\n",
       "      <td>IMG/center_2018_11_20_17_12_32_854.jpg</td>\n",
       "      <td>IMG/left_2018_11_20_17_12_32_854.jpg</td>\n",
       "      <td>IMG/right_2018_11_20_17_12_32_854.jpg</td>\n",
       "      <td>-0.05</td>\n",
       "      <td>0.000000</td>\n",
       "      <td>0</td>\n",
       "      <td>7.653603</td>\n",
       "    </tr>\n",
       "    <tr>\n",
       "      <th>2</th>\n",
       "      <td>IMG/center_2018_11_20_17_12_32_945.jpg</td>\n",
       "      <td>IMG/left_2018_11_20_17_12_32_945.jpg</td>\n",
       "      <td>IMG/right_2018_11_20_17_12_32_945.jpg</td>\n",
       "      <td>-0.30</td>\n",
       "      <td>0.090405</td>\n",
       "      <td>0</td>\n",
       "      <td>7.566245</td>\n",
       "    </tr>\n",
       "    <tr>\n",
       "      <th>3</th>\n",
       "      <td>IMG/center_2018_11_20_17_12_33_011.jpg</td>\n",
       "      <td>IMG/left_2018_11_20_17_12_33_011.jpg</td>\n",
       "      <td>IMG/right_2018_11_20_17_12_33_011.jpg</td>\n",
       "      <td>-0.45</td>\n",
       "      <td>0.291078</td>\n",
       "      <td>0</td>\n",
       "      <td>7.640279</td>\n",
       "    </tr>\n",
       "    <tr>\n",
       "      <th>4</th>\n",
       "      <td>IMG/center_2018_11_20_17_12_33_079.jpg</td>\n",
       "      <td>IMG/left_2018_11_20_17_12_33_079.jpg</td>\n",
       "      <td>IMG/right_2018_11_20_17_12_33_079.jpg</td>\n",
       "      <td>-0.65</td>\n",
       "      <td>0.493290</td>\n",
       "      <td>0</td>\n",
       "      <td>7.938390</td>\n",
       "    </tr>\n",
       "  </tbody>\n",
       "</table>\n",
       "</div>"
      ],
      "text/plain": [
       "                               dir_center  \\\n",
       "0  IMG/center_2018_11_20_17_12_32_757.jpg   \n",
       "1  IMG/center_2018_11_20_17_12_32_854.jpg   \n",
       "2  IMG/center_2018_11_20_17_12_32_945.jpg   \n",
       "3  IMG/center_2018_11_20_17_12_33_011.jpg   \n",
       "4  IMG/center_2018_11_20_17_12_33_079.jpg   \n",
       "\n",
       "                               dir_left  \\\n",
       "0  IMG/left_2018_11_20_17_12_32_757.jpg   \n",
       "1  IMG/left_2018_11_20_17_12_32_854.jpg   \n",
       "2  IMG/left_2018_11_20_17_12_32_945.jpg   \n",
       "3  IMG/left_2018_11_20_17_12_33_011.jpg   \n",
       "4  IMG/left_2018_11_20_17_12_33_079.jpg   \n",
       "\n",
       "                               dir_right  angle    torque  acc     speed  \n",
       "0  IMG/right_2018_11_20_17_12_32_757.jpg   0.00  0.000000    0  7.719079  \n",
       "1  IMG/right_2018_11_20_17_12_32_854.jpg  -0.05  0.000000    0  7.653603  \n",
       "2  IMG/right_2018_11_20_17_12_32_945.jpg  -0.30  0.090405    0  7.566245  \n",
       "3  IMG/right_2018_11_20_17_12_33_011.jpg  -0.45  0.291078    0  7.640279  \n",
       "4  IMG/right_2018_11_20_17_12_33_079.jpg  -0.65  0.493290    0  7.938390  "
      ]
     },
     "execution_count": 2,
     "metadata": {},
     "output_type": "execute_result"
    }
   ],
   "source": [
    "data_car = pd.read_csv(\"driving_log.csv\", na_values = ['no info', '.'])\n",
    "#data_car = pd.read_csv(\"interpolated.csv\", na_values = ['no info', '.'])\n",
    "# Data presentation\n",
    "data_car.head()"
   ]
  },
  {
   "cell_type": "code",
   "execution_count": 3,
   "metadata": {
    "colab": {
     "base_uri": "https://localhost:8080/",
     "height": 145
    },
    "colab_type": "code",
    "id": "AEH6UP2UTfS4",
    "outputId": "b2f3a436-1fa5-432f-d109-4938fd723891"
   },
   "outputs": [
    {
     "name": "stdout",
     "output_type": "stream",
     "text": [
      "float64\n"
     ]
    },
    {
     "data": {
      "text/plain": [
       "0    0.00\n",
       "1   -0.05\n",
       "2   -0.30\n",
       "3   -0.45\n",
       "4   -0.65\n",
       "Name: angle, dtype: float64"
      ]
     },
     "execution_count": 3,
     "metadata": {},
     "output_type": "execute_result"
    }
   ],
   "source": [
    "# Verificando homegeneidad de los datos de salida\n",
    "angle_dt = data_car['angle']\n",
    "print(angle_dt.dtypes)\n",
    "angle_dt.head()"
   ]
  },
  {
   "cell_type": "code",
   "execution_count": 4,
   "metadata": {
    "colab": {
     "base_uri": "https://localhost:8080/",
     "height": 163
    },
    "colab_type": "code",
    "id": "DT9904O0TfS7",
    "outputId": "06f59c7d-89fa-4c34-b2ad-8759d7b5563c",
    "scrolled": true
   },
   "outputs": [
    {
     "name": "stdout",
     "output_type": "stream",
     "text": [
      "1.0\n",
      "-1.0\n"
     ]
    },
    {
     "data": {
      "text/plain": [
       "0    0.00\n",
       "1   -0.05\n",
       "2   -0.30\n",
       "3   -0.45\n",
       "4   -0.65\n",
       "Name: angle, dtype: float64"
      ]
     },
     "execution_count": 4,
     "metadata": {},
     "output_type": "execute_result"
    }
   ],
   "source": [
    "# Normalizando valores de angularidad, normalizando en base al valor positivo mayor\n",
    "#Y_train = (angle_dt-angle_dt.min())/(angle_dt.max()-angle_dt.min())\n",
    "Y_train = angle_dt#/abs(angle_dt.min())\n",
    "print(Y_train.max())\n",
    "print(Y_train.min())\n",
    "Y_train.head(5)"
   ]
  },
  {
   "cell_type": "code",
   "execution_count": 5,
   "metadata": {
    "colab": {},
    "colab_type": "code",
    "id": "ucU3x3WoTfS-"
   },
   "outputs": [],
   "source": [
    "def adjust_gamma(image, gamma=1.0):\n",
    "\t# build a lookup table mapping the pixel values [0, 255] to\n",
    "\t# their adjusted gamma values\n",
    "\tinvGamma = 1.0 / gamma\n",
    "\ttable = np.array([((i / 255.0) ** invGamma) * 255\n",
    "\t\tfor i in np.arange(0, 256)]).astype(\"uint8\")\n",
    " \n",
    "\t# apply gamma correction using the lookup table\n",
    "\treturn cv2.LUT(image, table)\n",
    "\n",
    "def path2array(X_train_path,mini,maxi):\n",
    "    MAX_ = 200\n",
    "    MIN_ = 66\n",
    "    X_train = list()\n",
    "    #X_0 = skimage.io.imread(X_train_path[0][0])  uniform(1,1.5)\n",
    "    #X_1 = skimage.io.imread(X_train_path[0][1])\n",
    "    #X_train = np.append([X_0],[X_1],axis=0) # 225\n",
    "    for img_path in X_train_path[0][mini:maxi]:\n",
    "        #print(img_path)\n",
    "        temp = skimage.io.imread(img_path)[60:-25,:,:]\n",
    "        temp = cv2.resize(temp,(int(MAX_), int(MIN_)))\n",
    "        temp = adjust_gamma(temp, uniform(1,1.2))\n",
    "        temp = adjust_gamma(temp, uniform(0.5,0.9))\n",
    "        temp = cv2.cvtColor(temp, cv2.COLOR_RGB2YUV)\n",
    "        X_train.append(temp)\n",
    "    for img_path in X_train_path[0][mini:maxi]:\n",
    "        #print(img_path)\n",
    "        temp = skimage.io.imread(img_path)[60:-25,:,:]\n",
    "        temp = cv2.resize(temp,(int(MAX_), int(MIN_)))\n",
    "        temp = adjust_gamma(temp, uniform(0.3,0.6))\n",
    "        temp = cv2.flip( temp, 1 )\n",
    "        temp = cv2.cvtColor(temp, cv2.COLOR_RGB2YUV)\n",
    "        X_train.append(temp)\n",
    "    for img_path in X_train_path[0][mini:maxi]:\n",
    "        #print(img_path)\n",
    "        temp = skimage.io.imread(img_path)[60:-25,:,:]\n",
    "        temp = cv2.resize(temp,(int(MAX_), int(MIN_)))\n",
    "        temp = adjust_gamma(temp, uniform(0.5,1.1))\n",
    "        temp = cv2.GaussianBlur(temp, (3,3), 0)\t\n",
    "        temp = cv2.cvtColor(temp, cv2.COLOR_RGB2YUV)\n",
    "        X_train.append(temp)\n",
    "        \n",
    "        #X_train = np.append(X_train,[skimage.io.imread(img_path)],axis=0)\n",
    "    X_train = np.array(X_train)\n",
    "    #X_train.shape\n",
    "    return X_train\n",
    "    "
   ]
  },
  {
   "cell_type": "code",
   "execution_count": 6,
   "metadata": {
    "colab": {
     "base_uri": "https://localhost:8080/",
     "height": 126
    },
    "colab_type": "code",
    "id": "7CjopYZyTfTA",
    "outputId": "e86724dd-2297-409b-c5be-d0e6da3881b5"
   },
   "outputs": [
    {
     "data": {
      "text/plain": [
       "0    IMG/center_2018_11_20_17_12_32_757.jpg\n",
       "1    IMG/center_2018_11_20_17_12_32_854.jpg\n",
       "2    IMG/center_2018_11_20_17_12_32_945.jpg\n",
       "3    IMG/center_2018_11_20_17_12_33_011.jpg\n",
       "4    IMG/center_2018_11_20_17_12_33_079.jpg\n",
       "Name: 0, dtype: object"
      ]
     },
     "execution_count": 6,
     "metadata": {},
     "output_type": "execute_result"
    }
   ],
   "source": [
    "#Take data with just belong to the center camera >> Imagenes\n",
    "#bool_id = np.array(data_car['frame_id']=='center_camera')\n",
    "#img_center_index = list(np.where(bool_id == True)[0])\n",
    "\n",
    "#X_train_path = data_car['filename'].iloc[img_center_index]\n",
    "#X_train_path = np.array(X_train_path)\n",
    "#X_train_path = pd.DataFrame(X_train_path)\n",
    "#X_train_path[0].head()\n",
    "\n",
    "X_train_path = data_car['dir_center']\n",
    "X_train_path = np.array(X_train_path)\n",
    "X_train_path = pd.DataFrame(X_train_path)\n",
    "X_train_path[0].head()"
   ]
  },
  {
   "cell_type": "markdown",
   "metadata": {
    "colab_type": "text",
    "id": "E-vxmJicTfTE"
   },
   "source": [
    "## X_train"
   ]
  },
  {
   "cell_type": "code",
   "execution_count": 7,
   "metadata": {
    "colab": {
     "base_uri": "https://localhost:8080/",
     "height": 102
    },
    "colab_type": "code",
    "id": "eP0jUxV7TfTF",
    "outputId": "03073f44-80ba-41e7-f5a1-670fb97c982b"
   },
   "outputs": [
    {
     "name": "stdout",
     "output_type": "stream",
     "text": [
      "(45000, 66, 200, 3)\n"
     ]
    },
    {
     "data": {
      "image/png": "[encoded data removed]",
      "text/plain": [
       "<PIL.Image.Image image mode=RGB size=200x66 at 0x7FE93491A6D8>"
      ]
     },
     "execution_count": 7,
     "metadata": {},
     "output_type": "execute_result"
    }
   ],
   "source": [
    "# Convirtiendo las imagenes 2 arrays\n",
    "minimo = 0\n",
    "maximo = 15000\n",
    "#X_train = skimage.io.imread(X_train_path[0][0]) \n",
    "X_train = path2array(X_train_path,minimo,maximo)\n",
    "print(X_train.shape)\n",
    "#im_test = skimage.io.imread(X_train_path[0][0])\n",
    "#im_test = cv2.imread(X_train_path[0][500], cv2.COLOR_BGR2RGB)\n",
    "PIL.Image.fromarray(X_train[1000])"
   ]
  },
  {
   "cell_type": "code",
   "execution_count": 19,
   "metadata": {
    "colab": {
     "base_uri": "https://localhost:8080/",
     "height": 84
    },
    "colab_type": "code",
    "id": "KM1vwuIkSNqS",
    "outputId": "5ab954db-20e8-4190-8f23-a4aedc806d97"
   },
   "outputs": [
    {
     "data": {
      "image/png": "[encoded data removed]",
      "text/plain": [
       "<PIL.Image.Image image mode=RGB size=200x66 at 0x7FE9346CEE10>"
      ]
     },
     "execution_count": 19,
     "metadata": {},
     "output_type": "execute_result"
    }
   ],
   "source": [
    "gaussiana = cv2.GaussianBlur(X_train[14000], (3,3), 0)\t\n",
    "canny = cv2.Canny(gaussiana, 10,300)\n",
    "gamma = adjust_gamma(gaussiana,0.5)\n",
    "canny = cv2.Canny(gamma, 90,150)\n",
    "PIL.Image.fromarray(gamma)"
   ]
  },
  {
   "cell_type": "code",
   "execution_count": 20,
   "metadata": {
    "colab": {
     "base_uri": "https://localhost:8080/",
     "height": 84
    },
    "colab_type": "code",
    "id": "a70cz6zqezxQ",
    "outputId": "8ea92b52-2b65-4955-d37f-f11357c72ffb"
   },
   "outputs": [
    {
     "data": {
      "image/png": "[encoded data removed]",
      "text/plain": [
       "<PIL.Image.Image image mode=RGB size=200x66 at 0x7FE9346CEA58>"
      ]
     },
     "execution_count": 20,
     "metadata": {},
     "output_type": "execute_result"
    }
   ],
   "source": [
    "temp = skimage.io.imread('IMG/center_2018_11_20_17_12_32_854.jpg')[60:-25,:,:]\n",
    "PIL.Image.fromarray(X_train[36000])\n"
   ]
  },
  {
   "cell_type": "code",
   "execution_count": 33,
   "metadata": {
    "colab": {},
    "colab_type": "code",
    "id": "6FrB93l_TfTK"
   },
   "outputs": [],
   "source": [
    "# Save file\n",
    "filename = os.path.join(\"data/\", \"{}.npy\".format(\"X_train2\"))\n",
    "np.save(filename,X_train)"
   ]
  },
  {
   "cell_type": "markdown",
   "metadata": {
    "colab_type": "text",
    "id": "xNuZ3wEDTfTN"
   },
   "source": [
    "## Y_train"
   ]
  },
  {
   "cell_type": "code",
   "execution_count": 0,
   "metadata": {
    "colab": {},
    "colab_type": "code",
    "id": "uD40Cb8ITfTO",
    "scrolled": true
   },
   "outputs": [],
   "source": [
    "#Take data with just belong to the center camera >> Angulos\n",
    "#Y_train = Y_train.iloc[img_center_index]\n",
    "Y_train = angle_dt\n",
    "Y_train_ = np.array(Y_train)\n",
    "Y_train = np.append(Y_train_[minimo:maximo],-Y_train_[minimo:maximo],axis=0)\n",
    "Y_train = np.append(Y_train, Y_train_[minimo:maximo],axis=0)\n",
    "# Save file\n",
    "filename = os.path.join(\"data/\", \"{}.npy\".format(\"Y_train2\"))\n",
    "np.save(filename,Y_train)"
   ]
  },
  {
   "cell_type": "code",
   "execution_count": 0,
   "metadata": {
    "colab": {
     "base_uri": "https://localhost:8080/",
     "height": 35
    },
    "colab_type": "code",
    "id": "EAEIjRqx2Gs_",
    "outputId": "5e1c21c9-22f1-4402-efce-793d2a56e604"
   },
   "outputs": [
    {
     "data": {
      "text/plain": [
       "(45000,)"
      ]
     },
     "execution_count": 59,
     "metadata": {
      "tags": []
     },
     "output_type": "execute_result"
    }
   ],
   "source": [
    "Y_train.shape"
   ]
  },
  {
   "cell_type": "code",
   "execution_count": 34,
   "metadata": {
    "colab": {},
    "colab_type": "code",
    "id": "N79-VMOkTfTP"
   },
   "outputs": [],
   "source": [
    "!sudo chown -R $USER:$USER IMG"
   ]
  }
 ],
 "metadata": {
  "accelerator": "GPU",
  "colab": {
   "name": "data_preprocesing_train.ipynb",
   "provenance": [],
   "toc_visible": true,
   "version": "0.3.2"
  },
  "kernelspec": {
   "display_name": "Python 3",
   "language": "python",
   "name": "python3"
  },
  "language_info": {
   "codemirror_mode": {
    "name": "ipython",
    "version": 3
   },
   "file_extension": ".py",
   "mimetype": "text/x-python",
   "name": "python",
   "nbconvert_exporter": "python",
   "pygments_lexer": "ipython3",
   "version": "3.5.3"
  }
 },
 "nbformat": 4,
 "nbformat_minor": 1
}
