{
 "cells": [
  {
   "cell_type": "code",
   "execution_count": 2,
   "metadata": {
    "colab": {},
    "colab_type": "code",
    "id": "56WbAkznEkiT"
   },
   "outputs": [],
   "source": [
    "import pandas as pd \n",
    "from sklearn import preprocessing\n",
    "import numpy as np\n",
    "import cv2\n",
    "import skimage.io\n",
    "import matplotlib.pyplot as plt\n",
    "import PIL.Image\n",
    "import time\n",
    "import os\n",
    "from skimage.transform import rescale, resize, downscale_local_mean"
   ]
  },
  {
   "cell_type": "code",
   "execution_count": 3,
   "metadata": {
    "colab": {},
    "colab_type": "code",
    "id": "eD2VgjVfEkiW"
   },
   "outputs": [],
   "source": [
    "#data_car = pd.read_csv(\"interpolated.csv\", na_values = ['no info', '.'])\n",
    "data_car = pd.read_csv(\"driving_log.csv\", na_values = ['no info', '.'])"
   ]
  },
  {
   "cell_type": "code",
   "execution_count": 4,
   "metadata": {
    "colab": {
     "base_uri": "https://localhost:8080/",
     "height": 218
    },
    "colab_type": "code",
    "id": "g66NSd7YEkiY",
    "outputId": "dbf85afd-d318-41dc-b61c-5d4ab7869b6f"
   },
   "outputs": [
    {
     "data": {
      "text/html": [
       "<div>\n",
       "<table border=\"1\" class=\"dataframe\">\n",
       "  <thead>\n",
       "    <tr style=\"text-align: right;\">\n",
       "      <th></th>\n",
       "      <th>dir_center</th>\n",
       "      <th>dir_left</th>\n",
       "      <th>dir_right</th>\n",
       "      <th>angle</th>\n",
       "      <th>torque</th>\n",
       "      <th>acc</th>\n",
       "      <th>speed</th>\n",
       "    </tr>\n",
       "  </thead>\n",
       "  <tbody>\n",
       "    <tr>\n",
       "      <th>0</th>\n",
       "      <td>IMG/center_2018_11_20_17_12_32_757.jpg</td>\n",
       "      <td>IMG/left_2018_11_20_17_12_32_757.jpg</td>\n",
       "      <td>IMG/right_2018_11_20_17_12_32_757.jpg</td>\n",
       "      <td>0.00</td>\n",
       "      <td>0.000000</td>\n",
       "      <td>0</td>\n",
       "      <td>7.719079</td>\n",
       "    </tr>\n",
       "    <tr>\n",
       "      <th>1</th>\n",
       "      <td>IMG/center_2018_11_20_17_12_32_854.jpg</td>\n",
       "      <td>IMG/left_2018_11_20_17_12_32_854.jpg</td>\n",
       "      <td>IMG/right_2018_11_20_17_12_32_854.jpg</td>\n",
       "      <td>-0.05</td>\n",
       "      <td>0.000000</td>\n",
       "      <td>0</td>\n",
       "      <td>7.653603</td>\n",
       "    </tr>\n",
       "    <tr>\n",
       "      <th>2</th>\n",
       "      <td>IMG/center_2018_11_20_17_12_32_945.jpg</td>\n",
       "      <td>IMG/left_2018_11_20_17_12_32_945.jpg</td>\n",
       "      <td>IMG/right_2018_11_20_17_12_32_945.jpg</td>\n",
       "      <td>-0.30</td>\n",
       "      <td>0.090405</td>\n",
       "      <td>0</td>\n",
       "      <td>7.566245</td>\n",
       "    </tr>\n",
       "    <tr>\n",
       "      <th>3</th>\n",
       "      <td>IMG/center_2018_11_20_17_12_33_011.jpg</td>\n",
       "      <td>IMG/left_2018_11_20_17_12_33_011.jpg</td>\n",
       "      <td>IMG/right_2018_11_20_17_12_33_011.jpg</td>\n",
       "      <td>-0.45</td>\n",
       "      <td>0.291078</td>\n",
       "      <td>0</td>\n",
       "      <td>7.640279</td>\n",
       "    </tr>\n",
       "    <tr>\n",
       "      <th>4</th>\n",
       "      <td>IMG/center_2018_11_20_17_12_33_079.jpg</td>\n",
       "      <td>IMG/left_2018_11_20_17_12_33_079.jpg</td>\n",
       "      <td>IMG/right_2018_11_20_17_12_33_079.jpg</td>\n",
       "      <td>-0.65</td>\n",
       "      <td>0.493290</td>\n",
       "      <td>0</td>\n",
       "      <td>7.938390</td>\n",
       "    </tr>\n",
       "  </tbody>\n",
       "</table>\n",
       "</div>"
      ],
      "text/plain": [
       "                               dir_center  \\\n",
       "0  IMG/center_2018_11_20_17_12_32_757.jpg   \n",
       "1  IMG/center_2018_11_20_17_12_32_854.jpg   \n",
       "2  IMG/center_2018_11_20_17_12_32_945.jpg   \n",
       "3  IMG/center_2018_11_20_17_12_33_011.jpg   \n",
       "4  IMG/center_2018_11_20_17_12_33_079.jpg   \n",
       "\n",
       "                               dir_left  \\\n",
       "0  IMG/left_2018_11_20_17_12_32_757.jpg   \n",
       "1  IMG/left_2018_11_20_17_12_32_854.jpg   \n",
       "2  IMG/left_2018_11_20_17_12_32_945.jpg   \n",
       "3  IMG/left_2018_11_20_17_12_33_011.jpg   \n",
       "4  IMG/left_2018_11_20_17_12_33_079.jpg   \n",
       "\n",
       "                               dir_right  angle    torque  acc     speed  \n",
       "0  IMG/right_2018_11_20_17_12_32_757.jpg   0.00  0.000000    0  7.719079  \n",
       "1  IMG/right_2018_11_20_17_12_32_854.jpg  -0.05  0.000000    0  7.653603  \n",
       "2  IMG/right_2018_11_20_17_12_32_945.jpg  -0.30  0.090405    0  7.566245  \n",
       "3  IMG/right_2018_11_20_17_12_33_011.jpg  -0.45  0.291078    0  7.640279  \n",
       "4  IMG/right_2018_11_20_17_12_33_079.jpg  -0.65  0.493290    0  7.938390  "
      ]
     },
     "execution_count": 4,
     "metadata": {},
     "output_type": "execute_result"
    }
   ],
   "source": [
    "# Data presentation\n",
    "data_car.head()"
   ]
  },
  {
   "cell_type": "code",
   "execution_count": 5,
   "metadata": {
    "colab": {
     "base_uri": "https://localhost:8080/",
     "height": 145
    },
    "colab_type": "code",
    "id": "91ixJWCzEkid",
    "outputId": "affce33e-8714-4229-f6a7-0efd4ec3c1f3"
   },
   "outputs": [
    {
     "name": "stdout",
     "output_type": "stream",
     "text": [
      "float64\n"
     ]
    },
    {
     "data": {
      "text/plain": [
       "0    0.00\n",
       "1   -0.05\n",
       "2   -0.30\n",
       "3   -0.45\n",
       "4   -0.65\n",
       "Name: angle, dtype: float64"
      ]
     },
     "execution_count": 5,
     "metadata": {},
     "output_type": "execute_result"
    }
   ],
   "source": [
    "# Verificando homegeneidad de los datos de salida\n",
    "angle_dt = data_car['angle']\n",
    "print(angle_dt.dtypes)\n",
    "angle_dt.head()"
   ]
  },
  {
   "cell_type": "code",
   "execution_count": 6,
   "metadata": {
    "colab": {
     "base_uri": "https://localhost:8080/",
     "height": 128
    },
    "colab_type": "code",
    "id": "YSZXZ5ZcEkig",
    "outputId": "4172962c-6569-4c5e-e561-43e12c59d87f",
    "scrolled": true
   },
   "outputs": [
    {
     "name": "stdout",
     "output_type": "stream",
     "text": [
      "1.0\n",
      "-1.0\n"
     ]
    },
    {
     "data": {
      "text/plain": [
       "0    0.00\n",
       "1   -0.05\n",
       "2   -0.30\n",
       "3   -0.45\n",
       "4   -0.65\n",
       "Name: angle, dtype: float64"
      ]
     },
     "execution_count": 6,
     "metadata": {},
     "output_type": "execute_result"
    }
   ],
   "source": [
    "# Normalizando valores de angularidad, normalizando en base al valor positivo mayor\n",
    "#Y_train = (angle_dt-angle_dt.min())/(angle_dt.max()-angle_dt.min())\n",
    "Y_train = angle_dt#/abs(angle_dt.min())\n",
    "print(Y_train.max())\n",
    "print(Y_train.min())\n",
    "Y_train.head(5)\n"
   ]
  },
  {
   "cell_type": "code",
   "execution_count": 6,
   "metadata": {
    "colab": {},
    "colab_type": "code",
    "id": "KRJejQlKEkij"
   },
   "outputs": [],
   "source": [
    "def path2array(X_train_path,mini,maxi):\n",
    "    X_train = list()\n",
    "    #X_0 = skimage.io.imread(X_train_path[0][0])\n",
    "    #X_1 = skimage.io.imread(X_train_path[0][1])\n",
    "    #X_train = np.append([X_0],[X_1],axis=0) #225\n",
    "    for img_path in X_train_path[0][mini:maxi]:\n",
    "        #print(img_path)\n",
    "        temp = skimage.io.imread(img_path)[60:-25,:,:]\n",
    "        temp = cv2.resize(temp,(int(200), int(66)))\n",
    "        temp = cv2.cvtColor(temp, cv2.COLOR_RGB2YUV)\n",
    "        X_train.append(temp)\n",
    "        #X_train = np.append(X_train,[skimage.io.imread(img_path)],axis=0)\n",
    "    X_train = np.array(X_train)\n",
    "    #X_train.shape\n",
    "    return X_train\n",
    "    "
   ]
  },
  {
   "cell_type": "code",
   "execution_count": 7,
   "metadata": {
    "colab": {
     "base_uri": "https://localhost:8080/",
     "height": 126
    },
    "colab_type": "code",
    "id": "LTFpd_-NEkik",
    "outputId": "ec430397-869e-4059-9f0f-dee5e93d7dbc"
   },
   "outputs": [
    {
     "data": {
      "text/plain": [
       "0    IMG/center_2018_11_20_17_12_32_757.jpg\n",
       "1    IMG/center_2018_11_20_17_12_32_854.jpg\n",
       "2    IMG/center_2018_11_20_17_12_32_945.jpg\n",
       "3    IMG/center_2018_11_20_17_12_33_011.jpg\n",
       "4    IMG/center_2018_11_20_17_12_33_079.jpg\n",
       "Name: 0, dtype: object"
      ]
     },
     "execution_count": 7,
     "metadata": {},
     "output_type": "execute_result"
    }
   ],
   "source": [
    "#Take data with just belong to the center camera >> Imagenes\n",
    "#bool_id = np.array(data_car['frame_id']=='center_camera')\n",
    "#img_center_index = list(np.where(bool_id == True)[0])\n",
    "\n",
    "#X_train_path = data_car['filename'].iloc[img_center_index]\n",
    "#X_train_path = np.array(X_train_path)\n",
    "#X_train_path = pd.DataFrame(X_train_path)\n",
    "#X_train_path[0].head()\n",
    "\n",
    "X_train_path = data_car['dir_center']\n",
    "X_train_path = np.array(X_train_path)\n",
    "X_train_path = pd.DataFrame(X_train_path)\n",
    "X_train_path[0].head()"
   ]
  },
  {
   "cell_type": "code",
   "execution_count": 0,
   "metadata": {
    "colab": {
     "base_uri": "https://localhost:8080/",
     "height": 105
    },
    "colab_type": "code",
    "id": "xgiPoHp_cZP2",
    "outputId": "7eeaf1b6-c642-4db4-cb29-ba4340654b21"
   },
   "outputs": [
    {
     "name": "stdout",
     "output_type": "stream",
     "text": [
      "1.90415418148\n"
     ]
    },
    {
     "data": {
      "image/png": "[encoded data removed]",
      "text/plain": [
       "<PIL.Image.Image image mode=RGB size=90x70 at 0x7FF86E5B8FD0>"
      ]
     },
     "execution_count": 110,
     "metadata": {
      "tags": []
     },
     "output_type": "execute_result"
    }
   ],
   "source": [
    "\n",
    "temp = skimage.io.imread(data_car['filename'][27210])[224:,:,:]\n",
    "temp = cv2.resize(temp,(int(200), int(66)))\n",
    "print(angle_dt[27211])\n",
    "PIL.Image.fromarray(temp)"
   ]
  },
  {
   "cell_type": "markdown",
   "metadata": {
    "colab_type": "text",
    "id": "u1fUuQehEkio"
   },
   "source": [
    "## X_test"
   ]
  },
  {
   "cell_type": "code",
   "execution_count": 8,
   "metadata": {
    "colab": {
     "base_uri": "https://localhost:8080/",
     "height": 102
    },
    "colab_type": "code",
    "id": "0wKvSnoCEkip",
    "outputId": "e33ea930-1f34-41c8-9573-07799585a69f"
   },
   "outputs": [
    {
     "name": "stdout",
     "output_type": "stream",
     "text": [
      "(2000, 66, 200, 3)\n"
     ]
    },
    {
     "data": {
      "image/png": "[encoded data removed]",
      "text/plain": [
       "<PIL.Image.Image image mode=RGB size=200x66 at 0x7FB33192C3C8>"
      ]
     },
     "execution_count": 8,
     "metadata": {},
     "output_type": "execute_result"
    }
   ],
   "source": [
    "# Convirtiendo las imagenes 2 arrays\n",
    "minimo = 15000\n",
    "maximo = 17000\n",
    "#X_train = skimage.io.imread(X_train_path[0][0]) \n",
    "X_train = path2array(X_train_path,minimo,maximo)\n",
    "print(X_train.shape)\n",
    "#im_test = skimage.io.imread(X_train_path[0][0])\n",
    "#im_test = cv2.imread(X_train_path[0][500], cv2.COLOR_BGR2RGB)\n",
    "PIL.Image.fromarray(X_train[1500])"
   ]
  },
  {
   "cell_type": "code",
   "execution_count": 12,
   "metadata": {
    "colab": {
     "base_uri": "https://localhost:8080/",
     "height": 84
    },
    "colab_type": "code",
    "id": "0Gak1Nk6Q7sQ",
    "outputId": "09d6d14a-c276-4720-b827-8b8e99e812b6"
   },
   "outputs": [
    {
     "data": {
      "image/png": "[encoded data removed]",
      "text/plain": [
       "<PIL.Image.Image image mode=RGB size=200x66 at 0x7FB33192C400>"
      ]
     },
     "execution_count": 12,
     "metadata": {},
     "output_type": "execute_result"
    }
   ],
   "source": [
    "PIL.Image.fromarray(X_train[1950])"
   ]
  },
  {
   "cell_type": "code",
   "execution_count": 0,
   "metadata": {
    "colab": {},
    "colab_type": "code",
    "id": "Cm2LkNU5Ekir"
   },
   "outputs": [],
   "source": [
    "# Save file\n",
    "filename = os.path.join(\"data/\", \"{}.npy\".format(\"X_test2\"))\n",
    "np.save(filename,X_train)"
   ]
  },
  {
   "cell_type": "markdown",
   "metadata": {
    "colab_type": "text",
    "id": "nxrQZMXAEkit"
   },
   "source": [
    "## Y_test"
   ]
  },
  {
   "cell_type": "code",
   "execution_count": 0,
   "metadata": {
    "colab": {},
    "colab_type": "code",
    "id": "2OvPkhbnEkiu",
    "scrolled": true
   },
   "outputs": [],
   "source": [
    "#Take data with just belong to the center camera >> Angulos\n",
    "#Y_train = Y_train.iloc[img_center_index]\n",
    "Y_train = angle_dt\n",
    "Y_train = np.array(Y_train)\n",
    "# Save file\n",
    "filename = os.path.join(\"data/\", \"{}.npy\".format(\"Y_test2\"))\n",
    "np.save(filename,Y_train[minimo:maximo])"
   ]
  },
  {
   "cell_type": "code",
   "execution_count": 0,
   "metadata": {
    "colab": {},
    "colab_type": "code",
    "id": "gqLA9iLOugpN"
   },
   "outputs": [],
   "source": []
  },
  {
   "cell_type": "code",
   "execution_count": 0,
   "metadata": {
    "colab": {
     "base_uri": "https://localhost:8080/",
     "height": 308
    },
    "colab_type": "code",
    "id": "FPulZhRDapse",
    "outputId": "ff66ff52-4e4a-43fb-e287-accfaa790351"
   },
   "outputs": [
    {
     "name": "stdout",
     "output_type": "stream",
     "text": [
      "Wed Nov 21 01:34:31 2018       \n",
      "+-----------------------------------------------------------------------------+\n",
      "| NVIDIA-SMI 396.44                 Driver Version: 396.44                    |\n",
      "|-------------------------------+----------------------+----------------------+\n",
      "| GPU  Name        Persistence-M| Bus-Id        Disp.A | Volatile Uncorr. ECC |\n",
      "| Fan  Temp  Perf  Pwr:Usage/Cap|         Memory-Usage | GPU-Util  Compute M. |\n",
      "|===============================+======================+======================|\n",
      "|   0  Tesla K80           Off  | 00000000:00:04.0 Off |                    0 |\n",
      "| N/A   46C    P0   124W / 149W |   9435MiB / 11441MiB |    100%      Default |\n",
      "+-------------------------------+----------------------+----------------------+\n",
      "                                                                               \n",
      "+-----------------------------------------------------------------------------+\n",
      "| Processes:                                                       GPU Memory |\n",
      "|  GPU       PID   Type   Process name                             Usage      |\n",
      "|=============================================================================|\n",
      "+-----------------------------------------------------------------------------+\n"
     ]
    }
   ],
   "source": [
    "!nvidia-smi"
   ]
  },
  {
   "cell_type": "code",
   "execution_count": 0,
   "metadata": {
    "colab": {},
    "colab_type": "code",
    "id": "uEAyJM9q8RsX"
   },
   "outputs": [],
   "source": [
    "!mkdir data"
   ]
  },
  {
   "cell_type": "code",
   "execution_count": 0,
   "metadata": {
    "colab": {
     "base_uri": "https://localhost:8080/",
     "height": 35
    },
    "colab_type": "code",
    "id": "2Xzv5-hIQWNz",
    "outputId": "22adf38e-6ff5-48dc-c089-60b224de3c0e"
   },
   "outputs": [
    {
     "name": "stderr",
     "output_type": "stream",
     "text": [
      "Using TensorFlow backend.\n"
     ]
    }
   ],
   "source": [
    "from keras.models import load_model\n",
    "model1 = load_model('backup/check_model.h5')"
   ]
  },
  {
   "cell_type": "code",
   "execution_count": 0,
   "metadata": {
    "colab": {
     "base_uri": "https://localhost:8080/",
     "height": 124
    },
    "colab_type": "code",
    "id": "GfWZG5NvQelC",
    "outputId": "bb3c9a24-0ffb-4ac3-e8f9-5069d2ccc295"
   },
   "outputs": [
    {
     "name": "stdout",
     "output_type": "stream",
     "text": [
      "(70, 90, 3)\n",
      "Resultados Ypred = 0.05256880074739456\n"
     ]
    },
    {
     "data": {
      "image/png": "[encoded data removed]",
      "text/plain": [
       "<PIL.Image.Image image mode=RGB size=90x70 at 0x7F6E8D621470>"
      ]
     },
     "execution_count": 6,
     "metadata": {
      "tags": []
     },
     "output_type": "execute_result"
    }
   ],
   "source": [
    "temp = skimage.io.imread('IMG_9238.JPG')\n",
    "temp = cv2.resize(temp[60:,:,:],(int(90), int(70)))\n",
    "#temp = X_train[900]\n",
    "#temp = cv2.flip( temp, 1 )\n",
    "print(temp.shape)\n",
    "x_p = model1.predict(np.expand_dims(temp[:,:,0:3],axis=0))\n",
    "print('Resultados Ypred = {}'.format(x_p[0][0]))\n",
    "PIL.Image.fromarray(temp[:,:,0:3])"
   ]
  },
  {
   "cell_type": "code",
   "execution_count": 11,
   "metadata": {
    "colab": {
     "base_uri": "https://localhost:8080/",
     "height": 35
    },
    "colab_type": "code",
    "id": "8jD25ibL1sT0",
    "outputId": "e957e7ff-4300-4d4e-d412-14b8e79baf17"
   },
   "outputs": [
    {
     "name": "stdout",
     "output_type": "stream",
     "text": [
      "Wed Nov 21 17:11:09 2018       \r\n",
      "+-----------------------------------------------------------------------------+\r\n",
      "| NVIDIA-SMI 396.44                 Driver Version: 396.44                    |\r\n",
      "|-------------------------------+----------------------+----------------------+\r\n",
      "| GPU  Name        Persistence-M| Bus-Id        Disp.A | Volatile Uncorr. ECC |\r\n",
      "| Fan  Temp  Perf  Pwr:Usage/Cap|         Memory-Usage | GPU-Util  Compute M. |\r\n",
      "|===============================+======================+======================|\r\n",
      "|   0  Tesla V100-SXM2...  Off  | 00000000:00:04.0 Off |                    0 |\r\n",
      "| N/A   35C    P0    36W / 300W |      0MiB / 16160MiB |      1%      Default |\r\n",
      "+-------------------------------+----------------------+----------------------+\r\n",
      "                                                                               \r\n",
      "+-----------------------------------------------------------------------------+\r\n",
      "| Processes:                                                       GPU Memory |\r\n",
      "|  GPU       PID   Type   Process name                             Usage      |\r\n",
      "|=============================================================================|\r\n",
      "|  No running processes found                                                 |\r\n",
      "+-----------------------------------------------------------------------------+\r\n"
     ]
    }
   ],
   "source": [
    "#Y_train = Y_train.iloc[img_center_index]\n",
    "#minimo = 30000\n",
    "#maximo = 33000\n",
    "#Y_test = np.array(Y_train[minimo:maximo])\n",
    "!nvidia-smi"
   ]
  }
 ],
 "metadata": {
  "accelerator": "GPU",
  "colab": {
   "name": "data_preprocesing_test.ipynb",
   "provenance": [],
   "toc_visible": true,
   "version": "0.3.2"
  },
  "kernelspec": {
   "display_name": "Python 3",
   "language": "python",
   "name": "python3"
  },
  "language_info": {
   "codemirror_mode": {
    "name": "ipython",
    "version": 3
   },
   "file_extension": ".py",
   "mimetype": "text/x-python",
   "name": "python",
   "nbconvert_exporter": "python",
   "pygments_lexer": "ipython3",
   "version": "3.5.3"
  }
 },
 "nbformat": 4,
 "nbformat_minor": 1
}
