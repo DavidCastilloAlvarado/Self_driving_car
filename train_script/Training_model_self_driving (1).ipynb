{
 "cells": [
  {
   "cell_type": "code",
   "execution_count": 1,
   "metadata": {
    "colab": {
     "base_uri": "https://localhost:8080/",
     "height": 54
    },
    "colab_type": "code",
    "id": "aFKwwOQ2D_WY",
    "outputId": "832db552-46bc-43c0-98d6-a01022190fb9"
   },
   "outputs": [
    {
     "name": "stderr",
     "output_type": "stream",
     "text": [
      "Using TensorFlow backend.\n"
     ]
    }
   ],
   "source": [
    "from keras import optimizers\n",
    "from keras.models import Sequential ,load_model\n",
    "from keras.layers import Dense, Conv2D, MaxPooling2D, Dropout, Flatten, Reshape, Lambda\n",
    "from keras.callbacks import ModelCheckpoint, TensorBoard\n",
    "from sklearn import preprocessing \n",
    "import pandas as pd \n",
    "import matplotlib.pyplot as plt\n",
    "import numpy as np\n",
    "import os\n",
    "import skimage.io\n",
    "import PIL.Image\n",
    "import cv2"
   ]
  },
  {
   "cell_type": "code",
   "execution_count": 2,
   "metadata": {
    "colab": {},
    "colab_type": "code",
    "id": "sMFAQlpED_Wd"
   },
   "outputs": [],
   "source": [
    "# Load data X\n",
    "filename = os.path.join(\"data/\", \"{}.npy\".format(\"X_train2\"))\n",
    "X_train = np.load(filename)\n",
    "\n",
    "# Load data X\n",
    "filename = os.path.join(\"data/\", \"{}.npy\".format(\"X_test2\"))\n",
    "X_test = np.load(filename)\n",
    "\n",
    "# Load data Y\n",
    "filename = os.path.join(\"data/\", \"{}.npy\".format(\"Y_train2\"))\n",
    "Y_train = np.load(filename)\n",
    "\n",
    "# Load data Y\n",
    "filename = os.path.join(\"data/\", \"{}.npy\".format(\"Y_test2\"))\n",
    "Y_test = np.load(filename)"
   ]
  },
  {
   "cell_type": "code",
   "execution_count": 3,
   "metadata": {
    "colab": {
     "base_uri": "https://localhost:8080/",
     "height": 35
    },
    "colab_type": "code",
    "id": "Zt-N6RHwD_Wg",
    "outputId": "a4cd45de-fef6-4356-ccb5-543f71b5c436"
   },
   "outputs": [
    {
     "name": "stdout",
     "output_type": "stream",
     "text": [
      "(66, 200, 3)\n"
     ]
    }
   ],
   "source": [
    "# Input shape\n",
    "input_shape = X_train.shape[1:]\n",
    "print(input_shape)\n",
    "#input_shape = (70,100,3)"
   ]
  },
  {
   "cell_type": "code",
   "execution_count": 5,
   "metadata": {
    "colab": {},
    "colab_type": "code",
    "id": "7-JBSAtID_Wi"
   },
   "outputs": [],
   "source": [
    "def createModel():\n",
    "    model = Sequential()\n",
    "    model.add(Lambda(lambda x: x/127.5 -1.0, input_shape=input_shape)) # normaliza las imagenes de entrada\n",
    "    model.add(Conv2D(24, (5, 5), activation='relu', strides=(1,1)))\n",
    "    model.add(MaxPooling2D(pool_size=(2, 2)))\n",
    "    model.add(Dropout(0.25))\n",
    "    #98  31\n",
    "    model.add(Conv2D(36, (5, 5), activation='relu', strides=(1,1)))\n",
    "    model.add(MaxPooling2D(pool_size=(2, 2)))\n",
    "    model.add(Dropout(0.25))\n",
    "    #47  14\n",
    "    model.add(Conv2D(48, (5, 5), activation='relu', strides=(1,1)))\n",
    "    model.add(MaxPooling2D(pool_size=(2, 2)))\n",
    "    #model.add(Dropout(0.25))\n",
    "    #22  6\n",
    "    model.add(Conv2D(64, (3, 3), activation='relu', strides=(1,1)))\n",
    "    #model.add(MaxPooling2D(pool_size=(2, 2)))\n",
    "    #model.add(Dropout(0.25))\n",
    "    #\n",
    "    model.add(Conv2D(64, (3, 3), activation='relu', strides=(1,1)))\n",
    "    #model.add(MaxPooling2D(pool_size=(2, 2)))\n",
    "    #model.add(Dropout(0.25))\n",
    " \n",
    "    model.add(Flatten())\n",
    "    model.add(Dense(1164, activation='relu'))\n",
    "    model.add(Dropout(0.25))\n",
    "    model.add(Dense(100, activation='relu'))\n",
    "    #model.add(Dropout(0.25))\n",
    "    model.add(Dense(50, activation='relu'))\n",
    "    #model.add(Dropout(0.25))\n",
    "    model.add(Dense(10, activation='relu'))\n",
    "    #model.add(Dense(1, activation='tanh'))\n",
    "    model.add(Dense(1))\n",
    "    return model\n",
    "def createModel2():\n",
    "    model = Sequential()\n",
    "    model.add(Lambda(lambda x: x/127.5 -1.0, input_shape=input_shape)) # normaliza las imagenes de entrada\n",
    "    model.add(Conv2D(24, (5, 5), activation='relu', strides=(2,2)))\n",
    "    model.add(Dropout(0.25))\n",
    "    #98  31\n",
    "    model.add(Conv2D(36, (5, 5), activation='relu', strides=(2,2)))\n",
    "    model.add(Dropout(0.25))\n",
    "    #47  14\n",
    "    model.add(Conv2D(48, (5, 5), activation='relu', strides=(2,2)))\n",
    "    model.add(Dropout(0.25))\n",
    "    #22  6\n",
    "    model.add(Conv2D(64, (3, 3), activation='relu', strides=(1,1)))\n",
    "    #model.add(MaxPooling2D(pool_size=(2, 2)))\n",
    "    model.add(Dropout(0.25))\n",
    "    #\n",
    "    model.add(Conv2D(64, (3, 3), activation='relu', strides=(1,1)))\n",
    "    #model.add(MaxPooling2D(pool_size=(2, 2)))\n",
    "    model.add(Dropout(0.25))\n",
    " \n",
    "    model.add(Flatten())\n",
    "    model.add(Dense(1164, activation='relu'))\n",
    "    model.add(Dropout(0.25))\n",
    "    model.add(Dense(100, activation='relu'))\n",
    "    #model.add(Dropout(0.25))\n",
    "    model.add(Dense(50, activation='relu'))\n",
    "    #model.add(Dropout(0.25))\n",
    "    model.add(Dense(10, activation='relu'))\n",
    "    #model.add(Dense(1, activation='tanh'))\n",
    "    model.add(Dense(1))\n",
    "    return model"
   ]
  },
  {
   "cell_type": "code",
   "execution_count": 6,
   "metadata": {
    "colab": {
     "base_uri": "https://localhost:8080/",
     "height": 799
    },
    "colab_type": "code",
    "collapsed": true,
    "id": "tzb6DCuSD_Wl",
    "outputId": "36a3e397-f515-4ee2-cb9e-453dfba54ff3"
   },
   "outputs": [
    {
     "name": "stdout",
     "output_type": "stream",
     "text": [
      "_________________________________________________________________\n",
      "Layer (type)                 Output Shape              Param #   \n",
      "=================================================================\n",
      "lambda_1 (Lambda)            (None, 66, 200, 3)        0         \n",
      "_________________________________________________________________\n",
      "conv2d_1 (Conv2D)            (None, 31, 98, 24)        1824      \n",
      "_________________________________________________________________\n",
      "dropout_1 (Dropout)          (None, 31, 98, 24)        0         \n",
      "_________________________________________________________________\n",
      "conv2d_2 (Conv2D)            (None, 14, 47, 36)        21636     \n",
      "_________________________________________________________________\n",
      "dropout_2 (Dropout)          (None, 14, 47, 36)        0         \n",
      "_________________________________________________________________\n",
      "conv2d_3 (Conv2D)            (None, 5, 22, 48)         43248     \n",
      "_________________________________________________________________\n",
      "dropout_3 (Dropout)          (None, 5, 22, 48)         0         \n",
      "_________________________________________________________________\n",
      "conv2d_4 (Conv2D)            (None, 3, 20, 64)         27712     \n",
      "_________________________________________________________________\n",
      "dropout_4 (Dropout)          (None, 3, 20, 64)         0         \n",
      "_________________________________________________________________\n",
      "conv2d_5 (Conv2D)            (None, 1, 18, 64)         36928     \n",
      "_________________________________________________________________\n",
      "dropout_5 (Dropout)          (None, 1, 18, 64)         0         \n",
      "_________________________________________________________________\n",
      "flatten_1 (Flatten)          (None, 1152)              0         \n",
      "_________________________________________________________________\n",
      "dense_1 (Dense)              (None, 1164)              1342092   \n",
      "_________________________________________________________________\n",
      "dropout_6 (Dropout)          (None, 1164)              0         \n",
      "_________________________________________________________________\n",
      "dense_2 (Dense)              (None, 100)               116500    \n",
      "_________________________________________________________________\n",
      "dense_3 (Dense)              (None, 50)                5050      \n",
      "_________________________________________________________________\n",
      "dense_4 (Dense)              (None, 10)                510       \n",
      "_________________________________________________________________\n",
      "dense_5 (Dense)              (None, 1)                 11        \n",
      "=================================================================\n",
      "Total params: 1,595,511\n",
      "Trainable params: 1,595,511\n",
      "Non-trainable params: 0\n",
      "_________________________________________________________________\n"
     ]
    }
   ],
   "source": [
    "# Compile model\n",
    "#opt = optimizers.Nadam(lr=0.002, beta_1=0.9, beta_2=0.999, epsilon=None, schedule_decay=0.004)\n",
    "#opt = optimizers.Adamax(lr=0.002, beta_1=0.9, beta_2=0.999, epsilon=None, decay=0.0)\n",
    "#opt = optimizers.Adadelta(lr=1.0, rho=0.95, epsilon=None, decay=0.0) ###\n",
    "#opt = optimizers.SGD(lr=0.01, momentum=0.0, decay=0.0, nesterov=False)\n",
    "opt = optimizers.Adam(lr=0.0001, beta_1=0.9, beta_2=0.999, epsilon=None, decay=0.0, amsgrad=False)\n",
    "#opt = optimizers.Adagrad(lr=0.01, epsilon=None, decay=0.0)\n",
    "#opt = optimizers.RMSprop(lr=0.001, rho=0.9, epsilon=None, decay=0.0)\n",
    "model1 = createModel2()\n",
    "model1.compile(optimizer=opt, loss='mean_squared_error')\n",
    "model1.summary()"
   ]
  },
  {
   "cell_type": "markdown",
   "metadata": {
    "colab_type": "text",
    "id": "tq0pfUK1D_Wo"
   },
   "source": [
    "## Entrenamiento"
   ]
  },
  {
   "cell_type": "code",
   "execution_count": null,
   "metadata": {
    "colab": {
     "base_uri": "https://localhost:8080/",
     "height": 30518
    },
    "colab_type": "code",
    "id": "zFC-MlwiD_Wo",
    "outputId": "6257dc0d-983c-4d03-bf41-aa80e0c9efad"
   },
   "outputs": [],
   "source": [
    "checkP = ModelCheckpoint('backup/check_model35.{epoch:02d}-{loss:.5f}-{val_loss:.5f}.h5', monitor='val_loss', verbose=1, save_best_only=False, save_weights_only=False, mode='auto', period=50)\n",
    "tensorB = TensorBoard(log_dir='tb/', histogram_freq=50, batch_size=32, write_graph=True, write_grads=False, write_images=True, embeddings_freq=0, embeddings_layer_names=None, embeddings_metadata=None)\n",
    "#initial_epoch\n",
    "batch_size = 4096\n",
    "epochs = 2000\n",
    "history = model1.fit(X_train, Y_train, batch_size=batch_size, epochs=epochs, shuffle=True, verbose=1,initial_epoch=1024,\n",
    "                   validation_data=(X_test, Y_test),callbacks = [checkP, tensorB])\n",
    " \n",
    "#model1.evaluate(X_test, Y_test)\n",
    "#project_id = 'scarecrow'\n",
    "#!gsutil cp -r backup gs://{bucket_name}/content"
   ]
  },
  {
   "cell_type": "markdown",
   "metadata": {
    "colab_type": "text",
    "id": "_04WlKsAD_Wr"
   },
   "source": [
    "## Rendimiento del Entrenamiento"
   ]
  },
  {
   "cell_type": "code",
   "execution_count": 0,
   "metadata": {
    "colab": {
     "base_uri": "https://localhost:8080/",
     "height": 395
    },
    "colab_type": "code",
    "collapsed": true,
    "id": "au_y8dx0D_Ws",
    "outputId": "b9524898-0850-4ba2-f0a8-ad0e1aba15c2"
   },
   "outputs": [
    {
     "data": {
      "text/plain": [
       "<matplotlib.figure.Figure at 0x7fa310a5f470>"
      ]
     },
     "metadata": {
      "tags": []
     },
     "output_type": "display_data"
    },
    {
     "data": {
      "image/png": "[encoded data removed]",
      "text/plain": [
       "<matplotlib.figure.Figure at 0x7fa310a5f438>"
      ]
     },
     "metadata": {
      "tags": []
     },
     "output_type": "display_data"
    }
   ],
   "source": [
    "plt.figure(0)\n",
    "\n",
    " \n",
    "plt.figure(1)\n",
    "plt.plot(history.history['loss'],'r')\n",
    "plt.plot(history.history['val_loss'],'g')\n",
    "plt.xticks(np.arange(0, 101, 2.0))\n",
    "plt.rcParams['figure.figsize'] = (8, 6)\n",
    "plt.xlabel(\"Num of Epochs\")\n",
    "plt.ylabel(\"Loss\")\n",
    "plt.title(\"Training Loss vs Validation Loss\")\n",
    "plt.legend(['train','validation'])\n",
    " \n",
    " \n",
    "plt.show()"
   ]
  },
  {
   "cell_type": "code",
   "execution_count": 0,
   "metadata": {
    "colab": {},
    "colab_type": "code",
    "id": "Gfku-s_op70K"
   },
   "outputs": [],
   "source": [
    "model1.evaluate(X_test, Y_test)"
   ]
  },
  {
   "cell_type": "markdown",
   "metadata": {
    "colab_type": "text",
    "id": "VPhQJtFbsrlV"
   },
   "source": [
    "# Cargar el modelo desde una dirección"
   ]
  },
  {
   "cell_type": "code",
   "execution_count": 4,
   "metadata": {
    "colab": {},
    "colab_type": "code",
    "id": "YdnKbzfBsaV9"
   },
   "outputs": [],
   "source": [
    "model1 = load_model('backup/check_model35.700-0.00220-1.18745.h5')"
   ]
  },
  {
   "cell_type": "code",
   "execution_count": 6,
   "metadata": {
    "colab": {
     "base_uri": "https://localhost:8080/",
     "height": 54
    },
    "colab_type": "code",
    "id": "PICm7JG-s0oS",
    "outputId": "4d2c4f88-1cef-4f76-be3b-59f3c3ef0447"
   },
   "outputs": [
    {
     "name": "stdout",
     "output_type": "stream",
     "text": [
      "2000/2000 [==============================] - 0s 165us/step\n"
     ]
    },
    {
     "data": {
      "text/plain": [
       "0.837549681079574"
      ]
     },
     "execution_count": 6,
     "metadata": {},
     "output_type": "execute_result"
    }
   ],
   "source": [
    "model1.evaluate(X_test, Y_test)"
   ]
  },
  {
   "cell_type": "code",
   "execution_count": 9,
   "metadata": {
    "colab": {
     "base_uri": "https://localhost:8080/",
     "height": 35
    },
    "colab_type": "code",
    "id": "zv_LI0NqqJF0",
    "outputId": "f7baa00d-d261-4ccf-fc90-6e6fcaa96df2"
   },
   "outputs": [
    {
     "name": "stdout",
     "output_type": "stream",
     "text": [
      "Resultados Ypred = [[-0.02386391]] y Yreal = -0.05164319\n"
     ]
    }
   ],
   "source": [
    "n = 35000\n",
    "x_p = model1.predict(np.expand_dims(X_train[n],axis=0))\n",
    "y_real= Y_train[n]\n",
    "print('Resultados Ypred = {} y Yreal = {}'.format(x_p,y_real))"
   ]
  },
  {
   "cell_type": "markdown",
   "metadata": {
    "colab_type": "text",
    "id": "8fkD7rkFtoul"
   },
   "source": [
    "# Probar con una imagen externa"
   ]
  },
  {
   "cell_type": "code",
   "execution_count": 0,
   "metadata": {
    "colab": {
     "base_uri": "https://localhost:8080/",
     "height": 124
    },
    "colab_type": "code",
    "id": "RdbZR9Q5tm1p",
    "outputId": "a3a6ea5f-2c67-4513-b3c9-cfd6b87071e8"
   },
   "outputs": [
    {
     "name": "stdout",
     "output_type": "stream",
     "text": [
      "(70, 90, 3)\n",
      "Resultados Ypred = [[-0.34018645]]\n"
     ]
    },
    {
     "data": {
      "image/png": "[encoded data removed]",
      "text/plain": [
       "<PIL.Image.Image image mode=RGB size=90x70 at 0x7FA2F89020B8>"
      ]
     },
     "execution_count": 16,
     "metadata": {
      "tags": []
     },
     "output_type": "execute_result"
    }
   ],
   "source": [
    "temp = skimage.io.imread('center2.jpg')\n",
    "\n",
    "temp = cv2.resize(temp[:,:,:],(int(90), int(70)))\n",
    "temp = cv2.flip( temp, 1 )\n",
    "print(temp.shape)\n",
    "x_p = model1.predict(np.expand_dims(temp[:,:,0:3],axis=0))\n",
    "print('Resultados Ypred = {}'.format(x_p))\n",
    "PIL.Image.fromarray(temp[:,:,0:3])"
   ]
  },
  {
   "cell_type": "code",
   "execution_count": 0,
   "metadata": {
    "colab": {
     "base_uri": "https://localhost:8080/",
     "height": 35
    },
    "colab_type": "code",
    "id": "LnF47umGF4xJ",
    "outputId": "a11381f1-8fd8-4249-b40c-f5deffcc3f04"
   },
   "outputs": [
    {
     "data": {
      "text/plain": [
       "'2.2.4'"
      ]
     },
     "execution_count": 17,
     "metadata": {
      "tags": []
     },
     "output_type": "execute_result"
    }
   ],
   "source": [
    "import keras as k\n",
    "k.__version__"
   ]
  },
  {
   "cell_type": "code",
   "execution_count": 10,
   "metadata": {
    "colab": {
     "base_uri": "https://localhost:8080/",
     "height": 72
    },
    "colab_type": "code",
    "id": "JhIricF_IhsW",
    "outputId": "d1b693dc-ede8-4f52-96a5-1ca0e961153d"
   },
   "outputs": [
    {
     "name": "stdout",
     "output_type": "stream",
     "text": [
      "Wed Nov 21 22:14:11 2018       \r\n",
      "+-----------------------------------------------------------------------------+\r\n",
      "| NVIDIA-SMI 396.44                 Driver Version: 396.44                    |\r\n",
      "|-------------------------------+----------------------+----------------------+\r\n",
      "| GPU  Name        Persistence-M| Bus-Id        Disp.A | Volatile Uncorr. ECC |\r\n",
      "| Fan  Temp  Perf  Pwr:Usage/Cap|         Memory-Usage | GPU-Util  Compute M. |\r\n",
      "|===============================+======================+======================|\r\n",
      "|   0  Tesla V100-SXM2...  Off  | 00000000:00:04.0 Off |                    0 |\r\n",
      "| N/A   34C    P0    36W / 300W |      0MiB / 16160MiB |      1%      Default |\r\n",
      "+-------------------------------+----------------------+----------------------+\r\n",
      "                                                                               \r\n",
      "+-----------------------------------------------------------------------------+\r\n",
      "| Processes:                                                       GPU Memory |\r\n",
      "|  GPU       PID   Type   Process name                             Usage      |\r\n",
      "|=============================================================================|\r\n",
      "|  No running processes found                                                 |\r\n",
      "+-----------------------------------------------------------------------------+\r\n"
     ]
    }
   ],
   "source": [
    "!nvidia-smi"
   ]
  }
 ],
 "metadata": {
  "accelerator": "GPU",
  "colab": {
   "collapsed_sections": [],
   "name": "Training_model_self_driving.ipynb",
   "provenance": [],
   "toc_visible": true,
   "version": "0.3.2"
  },
  "kernelspec": {
   "display_name": "Python 3",
   "language": "python",
   "name": "python3"
  },
  "language_info": {
   "codemirror_mode": {
    "name": "ipython",
    "version": 3
   },
   "file_extension": ".py",
   "mimetype": "text/x-python",
   "name": "python",
   "nbconvert_exporter": "python",
   "pygments_lexer": "ipython3",
   "version": "3.5.3"
  }
 },
 "nbformat": 4,
 "nbformat_minor": 1
}
